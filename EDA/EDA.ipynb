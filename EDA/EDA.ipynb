{
 "cells": [
  {
   "cell_type": "code",
   "execution_count": 85,
   "id": "65e2b2d6-45bc-41bd-aad4-c19eb28c65b8",
   "metadata": {
    "tags": []
   },
   "outputs": [],
   "source": [
    "import pandas as pd\n",
    "import numpy as np\n",
    "import os\n",
    "import json\n",
    "import chardet\n",
    "import cv2"
   ]
  },
  {
   "cell_type": "code",
   "execution_count": null,
   "id": "41c1f770-60b9-4bb4-9fe5-a69bf7231039",
   "metadata": {
    "tags": []
   },
   "outputs": [],
   "source": [
    "#x,y,w,h 형식 변환\n",
    "def divide_by_1280(x):\n",
    "    if isinstance(x, (int, float)):\n",
    "        return x / 1280\n",
    "    else:\n",
    "        return x\n",
    "#라벨링 숫자로 변환\n",
    "def labeling_num(x):\n",
    "    if isinstance(x,(str)):\n",
    "        if x=='나무전체':\n",
    "            return 0\n",
    "        elif x=='기둥':\n",
    "            return 1\n",
    "        elif x=='수관':\n",
    "            return 2\n",
    "        elif x=='가지':\n",
    "            return 3\n",
    "        elif x=='뿌리':\n",
    "            return 4\n",
    "        elif x=='나뭇잎':\n",
    "            return 5\n",
    "        elif x=='꽃':\n",
    "            return 6\n",
    "        elif x=='열매':\n",
    "            return 7\n",
    "        elif x=='그네':\n",
    "            return 8\n",
    "        elif x=='새':\n",
    "            return 9\n",
    "        elif x=='다람쥐':\n",
    "            return 10\n",
    "        elif x=='구름':\n",
    "            return 11\n",
    "        elif x=='달':\n",
    "            return 12\n",
    "        elif x=='별':\n",
    "            return 13\n",
    "        elif x=='집전체':\n",
    "            return 0\n",
    "        elif x=='지붕':\n",
    "            return 1\n",
    "        elif x=='집벽':\n",
    "            return 2\n",
    "        elif x=='문':\n",
    "            return 3\n",
    "        elif x=='창문':\n",
    "            return 4\n",
    "        elif x=='굴뚝':\n",
    "            return 5\n",
    "        elif x=='연기':\n",
    "            return 6\n",
    "        elif x=='울타리':\n",
    "            return 7\n",
    "        elif x=='길':\n",
    "            return 8\n",
    "        elif x=='연못':\n",
    "            return 9\n",
    "        elif x=='산':\n",
    "            return 10\n",
    "        elif x=='나무':\n",
    "            return 11\n",
    "        elif x=='꽃':\n",
    "            return 12\n",
    "        elif x=='잔디':\n",
    "            return 13\n",
    "        elif x=='태양':\n",
    "            return 14\n",
    "        elif x=='사람전체':\n",
    "            return 0\n",
    "        elif x=='머리':\n",
    "            return 1\n",
    "        elif x=='얼굴':\n",
    "            return 2\n",
    "        elif x=='눈':\n",
    "            return 3\n",
    "        elif x=='코':\n",
    "            return 4\n",
    "        elif x=='입':\n",
    "            return 5\n",
    "        elif x=='귀':\n",
    "            return 6\n",
    "        elif x=='머리카락':\n",
    "            return 7\n",
    "        elif x=='목':\n",
    "            return 8\n",
    "        elif x=='상체':\n",
    "            return 9\n",
    "        elif x=='팔':\n",
    "            return 10\n",
    "        elif x=='손':\n",
    "            return 11\n",
    "        elif x=='다리':\n",
    "            return 12\n",
    "        elif x=='발':\n",
    "            return 13\n",
    "        elif x=='단추':\n",
    "            return 14\n",
    "        elif x=='주머니':\n",
    "            return 15\n",
    "        elif x=='운동화':\n",
    "            return 16\n",
    "        elif x=='여자구두':\n",
    "            return 17\n",
    "        elif x=='남자구두':\n",
    "            return 18\n",
    "    else:\n",
    "        return x\n",
    "#라벨링 변환 함수\n",
    "def newlabeling(dir_path,txt_dir_path):\n",
    "    #폴더 안의 json파일 가져오기\n",
    "    for file in os.listdir(dir_path):\n",
    "        if file.endswith('.json'):\n",
    "            json_file_path=os.path.join(dir_path,file)\n",
    "            with open(json_file_path,'rb') as f:\n",
    "                #확장자명 앞의 5자리 txt가져오기\n",
    "                txt_file_name=f.name[-10:-5]\n",
    "                raw_data = f.read()\n",
    "                encoding = chardet.detect(raw_data)['encoding']\n",
    "                data = raw_data.decode(encoding)\n",
    "                json_data=json.loads(data)\n",
    "                #json데이터 dataframe형식으로 변환\n",
    "                df=pd.DataFrame(json_data)\n",
    "                #dataframe중 x,y,w,h 데이터만 가져옴\n",
    "                df_cat=pd.DataFrame(df.loc['bbox','annotations'])\n",
    "                # x와 y 위치 수정\n",
    "                df_cat['x']=df_cat['x']+(df_cat['w']//2)\n",
    "                df_cat['y']=df_cat['y']+(df_cat['h']//2)\n",
    "                # x,y,w,h 1280으로 변환\n",
    "                df_cat=df_cat.applymap(divide_by_1280)\n",
    "                # 라벨정보 숫자로 변환\n",
    "                df_cat=df_cat.applymap(labeling_num)\n",
    "                #txt_dir_path로 txt파일 저장\n",
    "                df_cat.to_csv(txt_dir_path+txt_file_name+'.txt',index=False,header=False,sep=' ')"
   ]
  },
  {
   "cell_type": "code",
   "execution_count": 105,
   "id": "975fa60d-d6b0-4a60-a536-56e21bef8d45",
   "metadata": {
    "tags": []
   },
   "outputs": [],
   "source": [
    "def image_640px(input_folder,output_folder):\n",
    "    for filename in os.listdir(input_folder):\n",
    "        txt_file_name=filename[-9:-4]\n",
    "        input_path=os.path.join(input_folder,filename)\n",
    "        output_path=os.path.join(output_folder,txt_file_name+'.jpg')\n",
    "        img_array=np.fromfile(input_path,np.uint8)\n",
    "        image=cv2.imdecode(img_array,cv2.IMREAD_COLOR)\n",
    "        resized_image=cv2.resize(image,(640,640))\n",
    "        cv2.imwrite(output_path,resized_image)"
   ]
  },
  {
   "cell_type": "code",
   "execution_count": 121,
   "id": "749a91cc-3718-455e-9156-64349251390a",
   "metadata": {
    "tags": []
   },
   "outputs": [],
   "source": [
    "tree_label_path='C:/Users/korea/Desktop/dataset/Training/TL_나무/'\n",
    "tree_txt_label_path='C:/Users/korea/Desktop/dataset/Training/TT_나무/'\n",
    "house_label_path='C:/Users/korea/Desktop/dataset/Training/TL_집/'\n",
    "house_txt_label_path='C:/Users/korea/Desktop/dataset/Training/TT_집/'\n",
    "boy_label_path='C:/Users/korea/Desktop/dataset/Training/TL_남자사람/'\n",
    "boy_txt_label_path='C:/Users/korea/Desktop/dataset/Training/TT_남자사람/'\n",
    "girl_label_path='C:/Users/korea/Desktop/dataset/Training/TL_여자사람/'\n",
    "girl_txt_label_path='C:/Users/korea/Desktop/dataset/Training/TT_여자사람/'\n",
    "tree_output_path='C:/Users/korea/Desktop/dataset/Training/640_TS_tree/'\n",
    "house_output_path='C:/Users/korea/Desktop/dataset/Training/640_TS_house/'\n",
    "boy_output_path='C:/Users/korea/Desktop/dataset/Training/640_TS_boy/'\n",
    "girl_output_path='C:/Users/korea/Desktop/dataset/Training/640_TS_girl/'"
   ]
  },
  {
   "cell_type": "code",
   "execution_count": null,
   "id": "e2c1b56f-3f11-462c-b087-e4a78be7717f",
   "metadata": {
    "tags": []
   },
   "outputs": [],
   "source": [
    "newlabeling(tree_label_path,tree_txt_label_path)\n"
   ]
  },
  {
   "cell_type": "code",
   "execution_count": null,
   "id": "7dab8eb0-906b-4e57-bb8b-8001363607ff",
   "metadata": {
    "tags": []
   },
   "outputs": [],
   "source": [
    "newlabeling(house_label_path,house_txt_label_path)"
   ]
  },
  {
   "cell_type": "code",
   "execution_count": null,
   "id": "e0842806-fd9a-46a1-9e1c-1c6187926fc1",
   "metadata": {},
   "outputs": [],
   "source": [
    "newlabeling(boy_label_path,boy_txt_label_path)\n"
   ]
  },
  {
   "cell_type": "code",
   "execution_count": null,
   "id": "1b517b27-cb81-472a-adef-8a6456f377c7",
   "metadata": {},
   "outputs": [],
   "source": [
    "newlabeling(girl_label_path,girl_txt_label_path)"
   ]
  },
  {
   "cell_type": "code",
   "execution_count": 119,
   "id": "81bf846e-14c5-4cd0-b27c-e675fb85983a",
   "metadata": {
    "tags": []
   },
   "outputs": [],
   "source": [
    "val_tree_label_path='C:/Users/korea/Desktop/dataset/Validation/VL_나무/'\n",
    "val_tree_txt_label_path='C:/Users/korea/Desktop/dataset/Validation/VT_나무/'\n",
    "val_house_label_path='C:/Users/korea/Desktop/dataset/Validation/VL_집/'\n",
    "val_house_txt_label_path='C:/Users/korea/Desktop/dataset/Validation/VT_집/'\n",
    "val_boy_label_path='C:/Users/korea/Desktop/dataset/Validation/VL_남자사람/'\n",
    "val_boy_txt_label_path='C:/Users/korea/Desktop/dataset/Validation/VT_남자사람/'\n",
    "val_girl_label_path='C:/Users/korea/Desktop/dataset/Validation/VL_여자사람/'\n",
    "val_girl_txt_label_path='C:/Users/korea/Desktop/dataset/Validation/VT_여자사람/'\n",
    "val_tree_output_path='C:/Users/korea/Desktop/dataset/Validation/640_VS_tree/'\n",
    "val_house_output_path='C:/Users/korea/Desktop/dataset/Validation/640_VS_house/'\n",
    "val_boy_output_path='C:/Users/korea/Desktop/dataset/Validation/640_VS_boy/'\n",
    "val_girl_output_path='C:/Users/korea/Desktop/dataset/Validation/640_VS_girl/'"
   ]
  },
  {
   "cell_type": "code",
   "execution_count": null,
   "id": "dd56d7ca-0088-4002-af2f-d548d5c07bfb",
   "metadata": {
    "tags": []
   },
   "outputs": [],
   "source": [
    "newlabeling(val_tree_label_path,val_tree_txt_label_path)"
   ]
  },
  {
   "cell_type": "code",
   "execution_count": null,
   "id": "df6ea371-3866-4f46-98fc-afaf2e219d73",
   "metadata": {
    "tags": []
   },
   "outputs": [],
   "source": [
    "newlabeling(val_house_label_path,val_house_txt_label_path)"
   ]
  },
  {
   "cell_type": "code",
   "execution_count": null,
   "id": "7504c5ba-af72-46d7-a505-67f14c09d22e",
   "metadata": {
    "tags": []
   },
   "outputs": [],
   "source": [
    "newlabeling(val_boy_label_path,val_boy_txt_label_path)"
   ]
  },
  {
   "cell_type": "code",
   "execution_count": null,
   "id": "bf31bc52-f0c1-4cc4-86be-0b8d813f31ac",
   "metadata": {
    "tags": []
   },
   "outputs": [],
   "source": [
    "newlabeling(val_girl_label_path,val_girl_txt_label_path)"
   ]
  },
  {
   "cell_type": "code",
   "execution_count": null,
   "id": "6ae73807-6643-48ee-87f2-32e0005ef641",
   "metadata": {
    "tags": []
   },
   "outputs": [],
   "source": [
    "tree_input_path='C:/Users/korea/Desktop/dataset/Training/TS_나무/'\n",
    "boy_input_path='C:/Users/korea/Desktop/dataset/Training/TS_남자사람/'\n",
    "girl_input_path='C:/Users/korea/Desktop/dataset/Training/TS_여자사람/'\n",
    "house_input_path='C:/Users/korea/Desktop/dataset/Training/TS_집/'\n",
    "val_tree_input_path='C:/Users/korea/Desktop/dataset/Validation/VS_나무/'\n",
    "val_boy_input_path='C:/Users/korea/Desktop/dataset/Validation/VS_남자사람/'\n",
    "val_girl_input_path='C:/Users/korea/Desktop/dataset/Validation/VS_여자사람/'\n",
    "val_house_input_path='C:/Users/korea/Desktop/dataset/Validation/VS_집/'"
   ]
  },
  {
   "cell_type": "code",
   "execution_count": 113,
   "id": "9a50125d-e9eb-48e2-9f51-9a7a194c6c15",
   "metadata": {
    "tags": []
   },
   "outputs": [],
   "source": [
    "image_640px(tree_input_path,tree_output_path)"
   ]
  },
  {
   "cell_type": "code",
   "execution_count": 115,
   "id": "6a545173-9dc8-4448-bc13-a1ad7e88433d",
   "metadata": {
    "tags": []
   },
   "outputs": [],
   "source": [
    "image_640px(house_input_path,house_output_path)"
   ]
  },
  {
   "cell_type": "code",
   "execution_count": 117,
   "id": "ec05bb5d-6be9-4324-8e1c-1f2d35b34653",
   "metadata": {
    "tags": []
   },
   "outputs": [],
   "source": [
    "image_640px(boy_input_path,boy_output_path)"
   ]
  },
  {
   "cell_type": "code",
   "execution_count": 123,
   "id": "bff1e15a-4c8b-4ac7-829e-ed1370c11e49",
   "metadata": {
    "tags": []
   },
   "outputs": [],
   "source": [
    "image_640px(girl_input_path,girl_output_path)"
   ]
  },
  {
   "cell_type": "code",
   "execution_count": 125,
   "id": "a37ab6b3-65b1-41e8-9ac5-56d7de07764a",
   "metadata": {
    "tags": []
   },
   "outputs": [],
   "source": [
    "image_640px(val_tree_input_path,val_tree_output_path)"
   ]
  },
  {
   "cell_type": "code",
   "execution_count": 127,
   "id": "b309aac7-7a8a-469e-a270-17bf3b09ceff",
   "metadata": {
    "tags": []
   },
   "outputs": [],
   "source": [
    "image_640px(val_house_input_path,val_house_output_path)"
   ]
  },
  {
   "cell_type": "code",
   "execution_count": 129,
   "id": "f235b23f-ba6c-4c9e-b19c-17cf9d1f1a8b",
   "metadata": {
    "tags": []
   },
   "outputs": [],
   "source": [
    "image_640px(val_boy_input_path,val_boy_output_path)"
   ]
  },
  {
   "cell_type": "code",
   "execution_count": 131,
   "id": "4bac183b-eabb-4f6e-9e37-9354211ce1dd",
   "metadata": {
    "tags": []
   },
   "outputs": [],
   "source": [
    "image_640px(val_girl_input_path,val_girl_output_path)"
   ]
  },
  {
   "cell_type": "code",
   "execution_count": null,
   "id": "2843d0bf-9768-477d-b8f9-f8015ab8edcb",
   "metadata": {
    "tags": []
   },
   "outputs": [],
   "source": [
    "image_dir='C:/Users/Administrator/266.AI 기반 아동 미술심리 진단을 위한 그림 데이터 구축/01-1.정식개방데이터/Validation/01.원천데이터/VS_나무/'\n",
    "for filename in os.listdir(image_dir):\n",
    "    txt_file_name=filename[-9:-4]\n",
    "    file_path = os.path.join(image_dir, filename)\n",
    "    new_filename = txt_file_name\n",
    "    # 파일명 변경\n",
    "    os.rename(file_path, os.path.join(image_dir, new_filename+'.jpg'))"
   ]
  },
  {
   "cell_type": "code",
   "execution_count": 99,
   "id": "8aa61a91-5c42-4395-9a9c-5fa16a9ba085",
   "metadata": {},
   "outputs": [
    {
     "data": {
      "text/plain": [
       "True"
      ]
     },
     "execution_count": 99,
     "metadata": {},
     "output_type": "execute_result"
    }
   ],
   "source": []
  },
  {
   "cell_type": "code",
   "execution_count": null,
   "id": "0b2dc2c9-d22f-43ae-917f-e33e234983c9",
   "metadata": {},
   "outputs": [],
   "source": []
  }
 ],
 "metadata": {
  "kernelspec": {
   "display_name": "Python 3 (ipykernel)",
   "language": "python",
   "name": "python3"
  },
  "language_info": {
   "codemirror_mode": {
    "name": "ipython",
    "version": 3
   },
   "file_extension": ".py",
   "mimetype": "text/x-python",
   "name": "python",
   "nbconvert_exporter": "python",
   "pygments_lexer": "ipython3",
   "version": "3.11.7"
  }
 },
 "nbformat": 4,
 "nbformat_minor": 5
}
